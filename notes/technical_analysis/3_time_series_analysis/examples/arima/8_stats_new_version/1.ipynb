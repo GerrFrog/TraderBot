{
 "cells": [
  {
   "cell_type": "markdown",
   "metadata": {},
   "source": [
    "В statsmodels python последняя стабильная версия 0.12. Я рассчитываю:"
   ]
  },
  {
   "cell_type": "code",
   "execution_count": null,
   "metadata": {},
   "outputs": [],
   "source": [
    "import statsmodels.tsa.arima_model as stats\n",
    "\n",
    "time_series = [2, 3.0, 5, 7, 9, 11, 13, 17, 19]\n",
    "steps = 4\n",
    "alpha = 0.05\n",
    "\n",
    "model = stats.ARIMA(time_series, order=(0, 1, 0))\n",
    "model_fit = model.fit(disp=0)\n",
    "\n",
    "forecast, _, intervals = model_fit.forecast(steps=steps, exog=None, alpha=alpha)"
   ]
  },
  {
   "cell_type": "markdown",
   "metadata": {},
   "source": [
    "Что приводит к\n",
    "forecast = [21.125, 23.25, 25.375, 27.5]\n",
    "intervals = [[19.5950036, 22.6549964 ], [21.08625835, 25.41374165], [22.72496851, 28.02503149], [24.44000721, 30.55999279]]"
   ]
  },
  {
   "cell_type": "markdown",
   "metadata": {},
   "source": [
    "И «Предупреждение о будущем», в котором говорится:\n",
    "FutureWarning: \n",
    "statsmodels.tsa.arima_model.ARMA and statsmodels.tsa.arima_model.ARIMA have\n",
    "been deprecated in favor of statsmodels.tsa.arima.model.ARIMA (note the .\n",
    "between arima and model) and\n",
    "statsmodels.tsa.SARIMAX. These will be removed after the 0.12 release."
   ]
  },
  {
   "cell_type": "markdown",
   "metadata": {},
   "source": [
    "В новой версии, как указано в Future Warning, я вычисляю:"
   ]
  },
  {
   "cell_type": "code",
   "execution_count": null,
   "metadata": {},
   "outputs": [],
   "source": [
    "import statsmodels.tsa.arima.model as stats\n",
    "\n",
    "time_series = [2, 3.0, 5, 7, 9, 11, 13, 17, 19]\n",
    "steps = 4\n",
    "alpha = 0.05\n",
    "\n",
    "model = stats.ARIMA(time_series, order=(0, 1, 0))\n",
    "model_fit = model.fit()\n",
    "\n",
    "forecast = model_fit.get_forecast(steps=steps)\n",
    "forecasts_and_intervals = forecast.summary_frame(alpha=alpha)"
   ]
  },
  {
   "cell_type": "markdown",
   "metadata": {},
   "source": [
    "Что дает разные результаты:\n",
    "forecasts_and_intervals =\n",
    "y  mean   mean_se  mean_ci_lower  mean_ci_upper\n",
    "0  19.0  2.263842      14.562951      23.437049\n",
    "1  19.0  3.201556      12.725066      25.274934\n",
    "2  19.0  3.921089      11.314806      26.685194\n",
    "3  19.0  4.527684      10.125903      27.874097\n",
    "\n",
    "Хотелось бы получить те же результаты, что и раньше. Правильно ли я использую новый интерфейс?"
   ]
  },
  {
   "cell_type": "markdown",
   "metadata": {},
   "source": [
    "# Ответ"
   ]
  },
  {
   "cell_type": "markdown",
   "metadata": {},
   "source": [
    "Разница заключается в том, включают ли модели «постоянный» член или нет. Для первого случая, т.е. более старого statsmodels.tsa.arima_model.ARIMA, он автоматически включает постоянный член (и нет возможности включить / выключить). Если у вас есть различие, оно также включает его, но делает это в разностном домене (в противном случае оно все равно было бы удалено). Итак, вот его модель ARIMA (0, 1, 0):\n",
    "\n",
    "y_t - y_{t-1} = c + e_t\n",
    "\n",
    "Что является «случайным блужданием со сносом».\n",
    "\n",
    "Для нового statsmodels.tsa.arima.model.ARIMA, как указано в документации, которую вы связали, не включается какой-либо термин тренда (включая константу, то есть c), когда используется разность, что имеет место для вас. Итак, вот его модель ARIMA (0, 1, 0):\n",
    "\n",
    "y_t - y_{t-1} = e_t\n",
    "\n",
    "Что является «случайным блужданием» и, как мы знаем, прогнозы на его основе соответствуют наивным прогнозам, то есть повторению последнего значения (19 в вашем случае).\n",
    "\n",
    "Тогда что делать, чтобы новый заработал?\n",
    "\n",
    "Он включает параметр под названием trend, который вы можете указать, чтобы получить такое же поведение. Поскольку вы используете разность (d = 1), передача trend=\"t\" должна дать ту же модель, что и старая. (\"t\" означает линейный тренд, но поскольку d = 1, он будет уменьшаться до константы в разностной области):"
   ]
  },
  {
   "cell_type": "code",
   "execution_count": null,
   "metadata": {},
   "outputs": [],
   "source": [
    "import statsmodels.tsa.arima.model as stats\n",
    "\n",
    "time_series = [2, 3.0, 5, 7, 9, 11, 13, 17, 19]\n",
    "steps = 4\n",
    "alpha = 0.05\n",
    "\n",
    "model = stats.ARIMA(time_series, order=(0, 1, 0), trend=\"t\")   # only change is here!\n",
    "model_fit = model.fit()\n",
    "\n",
    "forecast = model_fit.get_forecast(steps=steps)\n",
    "forecasts_and_intervals = forecast.summary_frame(alpha=alpha)"
   ]
  },
  {
   "cell_type": "markdown",
   "metadata": {},
   "source": [
    "И вот что я получаю за forecasts_and_intervals:\n",
    "\n",
    "y       mean   mean_se  mean_ci_lower  mean_ci_upper\n",
    "0  21.124995  0.780622      19.595004      22.654986\n",
    "1  23.249990  1.103966      21.086256      25.413724\n",
    "2  25.374985  1.352077      22.724962      28.025008\n",
    "3  27.499980  1.561244      24.439997      30.559963"
   ]
  }
 ],
 "metadata": {
  "language_info": {
   "name": "python"
  },
  "orig_nbformat": 4
 },
 "nbformat": 4,
 "nbformat_minor": 2
}
